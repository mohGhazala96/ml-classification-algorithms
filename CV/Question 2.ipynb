{
 "cells": [
  {
   "cell_type": "code",
   "execution_count": 1,
   "metadata": {},
   "outputs": [],
   "source": [
    "from PIL import Image\n",
    "import numpy as np\n",
    "from matplotlib import pyplot as plt"
   ]
  },
  {
   "cell_type": "code",
   "execution_count": 2,
   "metadata": {},
   "outputs": [],
   "source": [
    "def sharpen(src, out_file):\n",
    "    noisyImage = Image.open(src)\n",
    "    x, y = noisyImage.size\n",
    "    noisyImage = noisyImage.load()\n",
    "    out_img = Image.new('L', (x, y))\n",
    "    sharpenedImage = []\n",
    "    for i in range (y):\n",
    "        for j in range(x):\n",
    "            sharpenedValue= 0\n",
    "            if(i>0 and j > 0 and i <255 and j <255): #avoid the edges of the image\n",
    "                imageSum=0\n",
    "                # Applying convultion matrix\n",
    "                imageSum += -1 * noisyImage[j-1, i-1] + -1 * noisyImage[j-1, i] +-1 * noisyImage[j-1, i+1]\n",
    "                imageSum += -1 * noisyImage[j, i-1] + 8 * noisyImage[j, i] +-1 * noisyImage[j, i+1]\n",
    "                imageSum += -1 * noisyImage[j+1, i-1] + -1 * noisyImage[j+1, i] +-1 * noisyImage[j+1,+1]\n",
    "                #\n",
    "                if imageSum < 0: # makes sure it doesn't overflow\n",
    "                    imageSum =0\n",
    "                elif imageSum > 255:\n",
    "                    imageSum =255\n",
    "                sharpenedValue= imageSum # sharpned Value  \n",
    "            else:\n",
    "                sharpenedValue= noisyImage[j, i]    \n",
    "                \n",
    "            # adds original pixel to fifth of the sharpend value    \n",
    "            sharpenedImage.append(noisyImage[j, i]+((1/5)*sharpenedValue)) \n",
    "\n",
    "    out_img.putdata(sharpenedImage)\n",
    "    out_img.save(out_file)"
   ]
  },
  {
   "cell_type": "code",
   "execution_count": 3,
   "metadata": {},
   "outputs": [
    {
     "name": "stdout",
     "output_type": "stream",
     "text": [
      "<PixelAccess object at 0x117211d90>\n"
     ]
    }
   ],
   "source": [
    "sharpen(\"Cameraman.tif\", \"cameraman.jpg\")"
   ]
  },
  {
   "cell_type": "code",
   "execution_count": null,
   "metadata": {},
   "outputs": [],
   "source": []
  },
  {
   "cell_type": "code",
   "execution_count": null,
   "metadata": {},
   "outputs": [],
   "source": []
  },
  {
   "cell_type": "code",
   "execution_count": null,
   "metadata": {},
   "outputs": [],
   "source": []
  }
 ],
 "metadata": {
  "kernelspec": {
   "display_name": "Python 3",
   "language": "python",
   "name": "python3"
  },
  "language_info": {
   "codemirror_mode": {
    "name": "ipython",
    "version": 3
   },
   "file_extension": ".py",
   "mimetype": "text/x-python",
   "name": "python",
   "nbconvert_exporter": "python",
   "pygments_lexer": "ipython3",
   "version": "3.6.8"
  }
 },
 "nbformat": 4,
 "nbformat_minor": 2
}
