{
 "cells": [
  {
   "cell_type": "code",
   "execution_count": 1,
   "metadata": {},
   "outputs": [],
   "source": [
    "from PIL import Image\n",
    "import numpy as np\n",
    "from matplotlib import pyplot as plt\n",
    "import math\n",
    "PI = 3.14"
   ]
  },
  {
   "cell_type": "code",
   "execution_count": 2,
   "metadata": {},
   "outputs": [],
   "source": [
    "h2 = np.asarray([[1, 1, 1],[ 0, 0, 0], [-1, -1, -1]]).transpose()\n",
    "h1 = np.asarray([[1, 1, 1],[ 0, 0, 0], [-1, -1, -1]])"
   ]
  },
  {
   "cell_type": "code",
   "execution_count": 12,
   "metadata": {},
   "outputs": [],
   "source": [
    "def getSize(sigma):\n",
    "    return 2 * math.ceil(3*sigma) + 1\n",
    "def laplac(imgsrc, sigma, thresh, outfile):\n",
    "    s = getSize(sigma)\n",
    "    img = Image.open(imgsrc)\n",
    "    im = img.load()\n",
    "    x, y = img.size\n",
    "    kernel = np.zeros((s, s))\n",
    "    for i in range(s):\n",
    "        for j in range(s):\n",
    "            xx = i - s//2;\n",
    "            yy = j - s//2;\n",
    "            kernel[i, j] = (-1/(PI * sigma**4))*(1 - ((xx**2+yy**2)/(2*sigma**2)))*math.exp(-((xx**2+yy**2)/(2*sigma**2)))\n",
    "    border = (s-1)//2\n",
    "    log_out = np.zeros((x - 2*border, y - 2*border))\n",
    "    for i in range(x-2*border):\n",
    "        for j in range(y-2*border):\n",
    "            val = 0\n",
    "            for ii in range(s):\n",
    "                for jj in range(s):\n",
    "                    val += kernel[ii, jj] * (im[i+ii, j+jj]+0)\n",
    "            log_out[i, j] = val\n",
    "    m = np.max(log_out)\n",
    "    log_out = log_out/m\n",
    "    m = np.min(log_out)\n",
    "    log_out = log_out/m\n",
    "    prewet_out = np.zeros((x - 2, y - 2))\n",
    "    for i in range(x - 2):\n",
    "        for j in range(y - 2):\n",
    "            xval = 0\n",
    "            yval = 0\n",
    "            for ii in range(3):\n",
    "                for jj in range(3):\n",
    "                    xval += h1[ii, jj] * (im[i+ii, j+jj]+0)\n",
    "                    yval += h2[ii, jj] * (im[i+ii, j+jj]+0)\n",
    "            prewet_out[i, j] = (xval**2 + yval**2) ** 0.5\n",
    "            \n",
    "            if (i < (x - border-1) and j < (y - border-1) and i > border and j > border and prewet_out[i, j] >= thresh and log_out[i + 1-border, j + 1-border] <= 0.2 and log_out[i + 1 -border, j + 1-border] >= -0.2):\n",
    "                prewet_out[i,j] = 255\n",
    "            else:\n",
    "                prewet_out[i,j] = 0\n",
    "    out_im = []\n",
    "    for j in range(prewet_out.shape[1]):\n",
    "        for i in range(prewet_out.shape[0]):\n",
    "            out_im.append(prewet_out[i, j])\n",
    "#     m = np.max(out_im)\n",
    "#     for i in range(len(out_im)):\n",
    "#         out_im[i] = 0 if (out_im[i] <= thresh and out_im[i] >= -thresh) else 255\n",
    "    \n",
    "    out = Image.new('L', (prewet_out.shape[0], prewet_out.shape[1]))\n",
    "    out.putdata(out_im)\n",
    "    out.save(outfile)\n",
    "    "
   ]
  },
  {
   "cell_type": "code",
   "execution_count": 13,
   "metadata": {},
   "outputs": [],
   "source": [
    "laplac(\"Cameraman.tif\", 2, 50, \"LoG_2.jpg\")\n",
    "laplac(\"Cameraman.tif\", 3, 50, \"LoG_3.jpg\")\n",
    "laplac(\"Cameraman.tif\", 4, 50, \"LoG_4.jpg\")"
   ]
  },
  {
   "cell_type": "code",
   "execution_count": null,
   "metadata": {},
   "outputs": [],
   "source": []
  }
 ],
 "metadata": {
  "kernelspec": {
   "display_name": "Python 3",
   "language": "python",
   "name": "python3"
  },
  "language_info": {
   "codemirror_mode": {
    "name": "ipython",
    "version": 3
   },
   "file_extension": ".py",
   "mimetype": "text/x-python",
   "name": "python",
   "nbconvert_exporter": "python",
   "pygments_lexer": "ipython3",
   "version": "3.7.3"
  }
 },
 "nbformat": 4,
 "nbformat_minor": 2
}
