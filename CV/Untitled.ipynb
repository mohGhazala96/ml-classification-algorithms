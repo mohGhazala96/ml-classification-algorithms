{
 "cells": [
  {
   "cell_type": "code",
   "execution_count": 1,
   "metadata": {},
   "outputs": [],
   "source": [
    "from PIL import Image\n",
    "import numpy as np\n",
    "from matplotlib import pyplot as plt"
   ]
  },
  {
   "cell_type": "code",
   "execution_count": 2,
   "metadata": {},
   "outputs": [],
   "source": [
    "def write_contrast(src, out_file):\n",
    "    cooc_mat = np.zeros((256, 256))\n",
    "\n",
    "    im = Image.open(src)\n",
    "    x, y = im.size\n",
    "    im = im.load()\n",
    "    \n",
    "    for j in range(1, y, 1):\n",
    "        for i in range(x):\n",
    "            north = im[i, j-1]\n",
    "            south = im[i, j]\n",
    "            cooc_mat[north, south] += 1\n",
    "            \n",
    "    contrast_val = 0;\n",
    "    \n",
    "    for i in range(256):\n",
    "        for j in range(256):\n",
    "            contrast_val += cooc_mat[i, j] * ((i - j)**2)\n",
    "    f = open(out_file, \"a+\")\n",
    "    f.write(\"%s %d\\n\" % (src, contrast_val))\n",
    "    f.close()"
   ]
  },
  {
   "cell_type": "code",
   "execution_count": 3,
   "metadata": {},
   "outputs": [],
   "source": [
    "def contrast(src, A, B, C, D, out, cont_out):\n",
    "    im = Image.open(src)\n",
    "    x, y = im.size\n",
    "    im = im.load()\n",
    "    r1_slope = (B-0)/(A-0)\n",
    "    r2_slope = (D-B)/(C-A)\n",
    "    r3_slope = (255-D)/(255-C)\n",
    "    out_img = Image.new('L', (x, y))\n",
    "    out_im = []\n",
    "    for i in range(y):\n",
    "        for j in range(x):\n",
    "            curr_pix = im[j, i]\n",
    "            if curr_pix <= A:\n",
    "                out_im.append(curr_pix * r1_slope)\n",
    "            elif curr_pix <= C:\n",
    "                out_im.append(curr_pix * r2_slope + (D-C*r2_slope))\n",
    "            else:\n",
    "                out_im.append(curr_pix * r3_slope + (255-255*r3_slope))\n",
    "    out_img.putdata(out_im)\n",
    "    out_img.save(out)\n",
    "    write_contrast(out, cont_out)"
   ]
  },
  {
   "cell_type": "code",
   "execution_count": 4,
   "metadata": {},
   "outputs": [],
   "source": [
    "contrast(\"Ocean.bmp\", 30, 20,180, 230, \"Ocean_a.bmp\", \"contrast.txt\")\n",
    "contrast(\"Ocean.bmp\", 70, 20, 140, 240, \"Ocean_b.bmp\", \"contrast.txt\")"
   ]
  },
  {
   "cell_type": "code",
   "execution_count": 5,
   "metadata": {},
   "outputs": [],
   "source": [
    "def integral_img(src, out, view):\n",
    "    im = Image.open(src)\n",
    "    x, y = im.size\n",
    "    im = im.load()\n",
    "    if view:\n",
    "        out_img = Image.new('L', (x, y))\n",
    "    else:\n",
    "        out_img = Image.new('I', (x, y))\n",
    "    out_im = []\n",
    "    \n",
    "    for i in range(y):\n",
    "        for j in range(x):\n",
    "            curr_pix = im[j, i]\n",
    "            _sum = 0\n",
    "            _sum += curr_pix\n",
    "            if(i > 0):\n",
    "                _sum += out_im[(i-1)*x + j]\n",
    "            if (j > 0):\n",
    "                _sum += out_im[i*x + j-1]\n",
    "            if (i > 0 and j > 0):\n",
    "                _sum -= out_im[(i-1)*x + j-1]\n",
    "            out_im.append(_sum)\n",
    "    if view:\n",
    "        _max = max(out_im)\n",
    "        for i in range(len(out_im)):\n",
    "            out_im[i] = (out_im[i]/ _max)*255\n",
    "        \n",
    "    out_img.putdata(out_im)\n",
    "    out_img.save(out)"
   ]
  },
  {
   "cell_type": "code",
   "execution_count": 6,
   "metadata": {},
   "outputs": [],
   "source": [
    "integral_img(\"Cameraman_noise.bmp\", \"Camera_Integ.jpg\", True)"
   ]
  },
  {
   "cell_type": "code",
   "execution_count": 7,
   "metadata": {},
   "outputs": [],
   "source": [
    "def avg_integ(src, out, K_size):\n",
    "    integral_img(src, \"temp.tiff\", False)\n",
    "    int_img = Image.open(\"Camera_Integ.tiff\")\n",
    "    int_im = int_img.load()\n",
    "    \n",
    "    im = Image.open(src)\n",
    "    x, y = im.size\n",
    "    im = im.load()\n",
    "    out_img = Image.new('L', (x-K_size + 1, y - K_size + 1))\n",
    "    out_im = []\n",
    "    for i in range((K_size-1)//2, y - (K_size-1)//2, 1):\n",
    "        for j in range((K_size-1)//2, x - (K_size-1)//2, 1):\n",
    "            i_c, j_c = (i + (K_size-1)//2, j + (K_size-1)//2)\n",
    "            final = int_im[j_c, i_c]\n",
    "            if (j > K_size//2):\n",
    "                final -= int_im[j_c - K_size, i_c]\n",
    "            if (i > K_size//2):\n",
    "                final -= int_im[j_c, i_c - K_size]\n",
    "            if (i > K_size//2 and j > K_size//2):\n",
    "                final += int_im[j_c - K_size, i_c - K_size]\n",
    "            out_im.append(final/(K_size**2))\n",
    "    out_img.putdata(out_im)\n",
    "    out_img.save(out)"
   ]
  },
  {
   "cell_type": "code",
   "execution_count": 8,
   "metadata": {},
   "outputs": [],
   "source": [
    "avg_integ(\"Cameraman_noise.bmp\", \"Camera_Filt_3.jpg\", 3)\n",
    "avg_integ(\"Cameraman_noise.bmp\", \"Camera_Filt_5.jpg\", 5)"
   ]
  },
  {
   "cell_type": "markdown",
   "metadata": {},
   "source": [
    "Problem2, C.\n",
    "    The advantage of using the integral image for averaging is that the cost of applying the kernel on the image will be constant not dependent on the kernel size. \n",
    "As the cost of calculating the sum of any area in the image will always cost the same as it only needs the 4 pixels surroinding the corners of the area in the integral image."
   ]
  }
 ],
 "metadata": {
  "kernelspec": {
   "display_name": "Python 3",
   "language": "python",
   "name": "python3"
  },
  "language_info": {
   "codemirror_mode": {
    "name": "ipython",
    "version": 3
   },
   "file_extension": ".py",
   "mimetype": "text/x-python",
   "name": "python",
   "nbconvert_exporter": "python",
   "pygments_lexer": "ipython3",
   "version": "3.7.3"
  }
 },
 "nbformat": 4,
 "nbformat_minor": 2
}
