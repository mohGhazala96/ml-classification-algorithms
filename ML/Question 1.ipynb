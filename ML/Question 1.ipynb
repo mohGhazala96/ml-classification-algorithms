{
 "cells": [
  {
   "cell_type": "code",
   "execution_count": 1,
   "metadata": {},
   "outputs": [],
   "source": [
    "import numpy as np\n",
    "import matplotlib.pyplot as plt\n",
    "from PIL import Image\n"
   ]
  },
  {
   "cell_type": "code",
   "execution_count": 16,
   "metadata": {},
   "outputs": [
    {
     "name": "stdout",
     "output_type": "stream",
     "text": [
      "finished\n"
     ]
    },
    {
     "data": {
      "image/png": "[encoded data removed]",
      "text/plain": [
       "<Figure size 432x288 with 1 Axes>"
      ]
     },
     "metadata": {
      "needs_background": "light"
     },
     "output_type": "display_data"
    }
   ],
   "source": [
    "labels = np.loadtxt(\"Train/Training Labels.txt\", dtype=int)\n",
    "labels = np.eye(10, dtype=int)[labels]\n",
    "labels = labels*2 -1\n",
    "index =0\n",
    "imageMatrix = []\n",
    "for i in range (0,2400): # each of the 2400 tranning pictures\n",
    "    img = Image.open(\"Train/%d.jpg\"%(i+1))\n",
    "    imageMatrix.append(np.array(img).reshape(-1))\n",
    "    \n",
    "for n in [1,10**-1,10**-2,10**-3,10**-4,10**-5,10**-6,10**-7,10**-8,10**-9]: \n",
    "    weights = np.zeros((10, 28*28)) # intialise the first ten classifiers each having the size of the image\n",
    "    for i in range(10): # intial weight vector in each of the classifiers by 1\n",
    "        weights[i][0] = 1\n",
    "    for c in range(0,10): # for each of the 10 classifiers\n",
    "        for epoch in range(0,500): # limit of 500 iterations\n",
    "            for i in range (0,2400): # each of the 2400 tranning pictures\n",
    "                r=0\n",
    "                if np.dot(weights[c],imageMatrix[i])>=0: \n",
    "                    r=1 \n",
    "                else:\n",
    "                    r=-1\n",
    "                if r!= labels[i][c]:\n",
    "                    weights[c] += n*imageMatrix[i]*labels[i][c]\n",
    "    #test\n",
    "    tdata = np.zeros((200, 28*28))\n",
    "    for i in range(1, 201):\n",
    "        im = Image.open(\"Test/%d.jpg\"%(i))\n",
    "        tdata[i-1] = np.array(im).reshape( -1)\n",
    "    tlabels = np.loadtxt(\"Test/Test Labels.txt\", dtype=int)\n",
    "    tlabels = np.eye(10, dtype=int)[tlabels]\n",
    "    tlabels = tlabels*2 -1\n",
    "\n",
    "    preds = tdata.dot(weights.transpose())\n",
    "    conf_mat = np.zeros((10, 10))\n",
    "    preds_num = preds.argmax(axis=1)\n",
    "    tlabels_num = tlabels.argmax(axis=1)\n",
    "    \n",
    "    # confusion matrix\n",
    "    for i in range(preds_num.shape[0]):\n",
    "        conf_mat[tlabels_num[i], preds_num[i]] += 1\n",
    "    plt.imshow(conf_mat)\n",
    "    plt.savefig(\"Confusion%d.jpg\"%(index))\n",
    "    index +=1 \n",
    "    \n",
    "print(\"finished\")\n"
   ]
  },
  {
   "cell_type": "code",
   "execution_count": null,
   "metadata": {},
   "outputs": [],
   "source": []
  }
 ],
 "metadata": {
  "kernelspec": {
   "display_name": "Python 3",
   "language": "python",
   "name": "python3"
  },
  "language_info": {
   "codemirror_mode": {
    "name": "ipython",
    "version": 3
   },
   "file_extension": ".py",
   "mimetype": "text/x-python",
   "name": "python",
   "nbconvert_exporter": "python",
   "pygments_lexer": "ipython3",
   "version": "3.6.8"
  }
 },
 "nbformat": 4,
 "nbformat_minor": 2
}
