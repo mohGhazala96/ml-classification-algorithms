{
 "cells": [
  {
   "cell_type": "code",
   "execution_count": 1,
   "metadata": {},
   "outputs": [],
   "source": [
    "import numpy as np\n",
    "import matplotlib.pyplot as plt\n",
    "import matplotlib.image as mpimg\n",
    "from PIL import Image\n",
    "import math"
   ]
  },
  {
   "cell_type": "code",
   "execution_count": 2,
   "metadata": {},
   "outputs": [],
   "source": [
    "data = np.zeros((2400, 28*28))\n",
    "for i in range(1, 2401, 1):\n",
    "    im = mpimg.imread(\"Train/%d.jpg\"%(i))\n",
    "    data[i-1, :] = np.array(im).reshape(-1)/255\n",
    "labels = np.loadtxt(\"Train/Training Labels.txt\", dtype=int)\n",
    "labels_onehot = np.eye(10, dtype=int)[labels]"
   ]
  },
  {
   "cell_type": "code",
   "execution_count": 3,
   "metadata": {},
   "outputs": [],
   "source": [
    "mean = np.zeros((10, 28*28))\n",
    "count = np.zeros((10, 1))\n",
    "for i in range(0, 2400):\n",
    "    num = labels[i]\n",
    "    mean[num, :] += data[i, :]\n",
    "    count[num, 0] += 1\n",
    "mean = mean/count"
   ]
  },
  {
   "cell_type": "code",
   "execution_count": 4,
   "metadata": {},
   "outputs": [],
   "source": [
    "var = np.zeros((10, 28*28))\n",
    "for i in range(0, 2400):\n",
    "    num = labels[i]\n",
    "    var[num, :] += (data[i, :] - mean[num, :]) ** 2\n",
    "std = (var/count)"
   ]
  },
  {
   "cell_type": "code",
   "execution_count": 5,
   "metadata": {},
   "outputs": [],
   "source": [
    "tdata = np.zeros((200, 28*28))\n",
    "for i in range(1, 201, 1):\n",
    "    im = mpimg.imread(\"Test/%d.jpg\"%(i))\n",
    "    tdata[i-1, :] = np.array(im).reshape(1, -1)/255\n",
    "tlabels = np.loadtxt(\"Test/Test Labels.txt\", dtype=int)"
   ]
  },
  {
   "cell_type": "code",
   "execution_count": 6,
   "metadata": {},
   "outputs": [
    {
     "data": {
      "text/plain": [
       "array([6.69259076e-176, 1.22289805e-306, 7.73085246e-142, 1.26614867e-146,\n",
       "       4.74905707e-059, 9.76256392e-104, 2.47719148e-200, 2.72215904e-100,\n",
       "       1.91011039e-102, 1.77420923e-050])"
      ]
     },
     "execution_count": 6,
     "metadata": {},
     "output_type": "execute_result"
    }
   ],
   "source": [
    "# std is variance not std\n",
    "\n",
    "preds = np.zeros((200, 10))\n",
    "\n",
    "beta = 1e-13\n",
    "for i in range(0, 200):\n",
    "    prob = 0.001+(1/(beta +  (std *2*3.14)**0.5))*np.exp(-((mean-tdata[i, :])**2)/(beta + 2 * std))\n",
    "    for z in range(prob.shape[0]):\n",
    "        for j in range(prob.shape[1]):\n",
    "            if (prob[z, j] > 1):\n",
    "                prob[z, j] = 1\n",
    "    preds[i, :] = np.prod(prob, axis=1)\n",
    "preds[199, :]"
   ]
  },
  {
   "cell_type": "code",
   "execution_count": 7,
   "metadata": {},
   "outputs": [
    {
     "name": "stdout",
     "output_type": "stream",
     "text": [
      "[0 0 0 0 0 0 0 0 0 0 0 0 0 5 0 0 0 0 6 0 1 1 1 1 1 1 1 1 1 1 1 1 1 1 8 1 1\n",
      " 1 1 1 2 2 2 2 2 2 2 2 2 2 2 2 8 5 2 2 2 2 2 2 2 3 3 3 3 3 3 3 3 3 3 3 3 3\n",
      " 3 3 3 3 3 3 4 9 4 4 4 4 4 4 2 4 4 4 8 4 9 4 4 8 4 9 9 5 5 5 5 5 5 5 5 5 4\n",
      " 5 5 2 5 3 5 5 5 5 6 6 2 6 6 0 6 0 6 6 6 6 6 6 6 6 6 2 6 2 7 7 7 7 7 7 7 7\n",
      " 7 4 7 7 7 9 4 9 7 7 7 4 8 8 8 8 8 8 8 8 8 8 8 8 8 2 8 8 9 3 8 5 9 9 9 0 7\n",
      " 4 2 8 9 9 4 9 9 9 4 4 4 4 9 9]\n",
      "0.7999999999999999\n"
     ]
    },
    {
     "data": {
      "image/png": "[encoded data removed]",
      "text/plain": [
       "<Figure size 432x288 with 1 Axes>"
      ]
     },
     "metadata": {},
     "output_type": "display_data"
    }
   ],
   "source": [
    "conf_mat = np.zeros((10, 10))\n",
    "preds_num = preds.argmax(axis=1)\n",
    "print(preds_num)\n",
    "for i in range(preds_num.shape[0]):\n",
    "    conf_mat[tlabels[i], preds_num[i]] += 1\n",
    "summ = 0\n",
    "for i in range(10):\n",
    "    summ += conf_mat[i, i] / 200\n",
    "print(summ)\n",
    "plt.imshow(conf_mat)\n",
    "plt.savefig(\"Confusion-Gauss.jpg.jpg\")"
   ]
  },
  {
   "cell_type": "code",
   "execution_count": null,
   "metadata": {},
   "outputs": [],
   "source": []
  }
 ],
 "metadata": {
  "kernelspec": {
   "display_name": "Python 3",
   "language": "python",
   "name": "python3"
  },
  "language_info": {
   "codemirror_mode": {
    "name": "ipython",
    "version": 3
   },
   "file_extension": ".py",
   "mimetype": "text/x-python",
   "name": "python",
   "nbconvert_exporter": "python",
   "pygments_lexer": "ipython3",
   "version": "3.7.3"
  }
 },
 "nbformat": 4,
 "nbformat_minor": 2
}
