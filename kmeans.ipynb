{
 "cells": [
  {
   "cell_type": "code",
   "execution_count": 1,
   "metadata": {},
   "outputs": [],
   "source": [
    "import numpy as np\n",
    "import matplotlib.pyplot as plt\n",
    "from PIL import Image\n",
    "# load images\n",
    "imagesMatrix = np.zeros((2400,784))\n",
    "for i in range (0,2400): \n",
    "    img = Image.open(\"Images/%d.jpg\"%(i+1))\n",
    "    imagesMatrix[i] = np.array(img).reshape(-1)\n",
    "imagesMatrix = np.where(imagesMatrix >= 140, 1, 0)"
   ]
  },
  {
   "cell_type": "code",
   "execution_count": 2,
   "metadata": {},
   "outputs": [],
   "source": [
    "def GetMembership(currentAverages):\n",
    "    membership = np.zeros((2400), dtype=\"int\")\n",
    "    for i in range (0,2400):\n",
    "        currentAverage = 0\n",
    "        currentDistance = np.linalg.norm(imagesMatrix[i]-currentAverages[0])\n",
    "        for j in range (0,10):\n",
    "            tempDistance = np.linalg.norm(imagesMatrix[i]-currentAverages[j])\n",
    "            if tempDistance <= currentDistance:\n",
    "                currentDistance= tempDistance\n",
    "                currentAverage = j\n",
    "        membership[i]= currentAverage\n",
    "    return membership"
   ]
  },
  {
   "cell_type": "code",
   "execution_count": 3,
   "metadata": {},
   "outputs": [],
   "source": [
    "def GetIndices(membershipList,k):\n",
    "    indices = []\n",
    "    for index in range(0,len(membershipList)):\n",
    "        if membershipList[index] == k:\n",
    "            indices.append(index)\n",
    "    return indices\n",
    "    "
   ]
  },
  {
   "cell_type": "code",
   "execution_count": 4,
   "metadata": {},
   "outputs": [],
   "source": [
    "memberships = [] # memberships for all 30 iterations\n",
    "# repeat for 30 iterations\n",
    "for itr in range(0,30):    \n",
    "    # intialize 10 matrices (mus)\n",
    "    centriods = np.zeros(10, dtype=\"int\")\n",
    "    currentImageIndex = np.random.randint(0,2400)\n",
    "    centriods[0] = currentImageIndex\n",
    "    for k in range (1,10):\n",
    "        # first minimum distance\n",
    "        currentDistance = np.linalg.norm(imagesMatrix[currentImageIndex]-imagesMatrix[0])\n",
    "        for i in range (0,2400):\n",
    "            # check if this image index wasn't used before\n",
    "            if not (np.any(np.isin(i,centriods))):\n",
    "                tempDistance = np.linalg.norm(imagesMatrix[currentImageIndex]-imagesMatrix[i])\n",
    "                # if the ditance is farthest away then update the centriods\n",
    "                if tempDistance >= currentDistance:\n",
    "                    currentDistance= tempDistance\n",
    "                    centriods[k] = i\n",
    "        currentImageIndex = centriods[k]\n",
    "    \n",
    "    # get averages (mus) based on the 10 indices \n",
    "    averages = np.zeros((10,784), dtype=\"float\")\n",
    "    for i in range (0,10):\n",
    "        averages[i]= imagesMatrix[centriods[i]]\n",
    "\n",
    "    # update averages until it converges\n",
    "    oldAverages = np.zeros((10,784), dtype=\"float\")\n",
    "    membership = GetMembership(averages)\n",
    "    for k in range(0,10):\n",
    "        oldAverages[k]=np.mean(imagesMatrix[GetIndices(membership,k)], axis =0 )\n",
    "    while True:\n",
    "        membership = GetMembership(oldAverages)\n",
    "        newAverages = np.zeros((10,784), dtype=\"float\")\n",
    "        for k in range(0,10):\n",
    "            newAverages[k]=np.mean(imagesMatrix[GetIndices(membership,k)], axis =0 )\n",
    "        if (newAverages==oldAverages).all():\n",
    "            break\n",
    "        oldAverages = newAverages\n",
    "    memberships.append(membership)"
   ]
  },
  {
   "cell_type": "code",
   "execution_count": 5,
   "metadata": {},
   "outputs": [],
   "source": [
    "distances = []\n",
    "for itr in range(0,30):\n",
    "    totalDistance=0\n",
    "    membership = memberships[itr]\n",
    "    for k in range(0,10):\n",
    "        for img in range(0,2400):\n",
    "            if((k==membership[img])):\n",
    "                for restimg in range(0,2400):\n",
    "                    if( (k==membership[restimg])):\n",
    "                        totalDistance +=np.linalg.norm(imagesMatrix[img]-imagesMatrix[restimg])\n",
    "    distances.append(totalDistance)"
   ]
  },
  {
   "cell_type": "code",
   "execution_count": 6,
   "metadata": {},
   "outputs": [
    {
     "name": "stdout",
     "output_type": "stream",
     "text": [
      "The accuracy for point 0 is 69.58333333333333 %\n",
      "The accuracy for point 1 is 98.75 %\n",
      "The accuracy for point 2 is 56.666666666666664 %\n",
      "The accuracy for point 3 is 40.416666666666664 %\n",
      "The accuracy for point 4 is 48.75 %\n",
      "The accuracy for point 5 is 29.583333333333332 %\n",
      "The accuracy for point 6 is 81.25 %\n",
      "The accuracy for point 7 is 58.333333333333336 %\n",
      "The accuracy for point 8 is 55.00000000000001 %\n",
      "The accuracy for point 9 is 48.75 %\n"
     ]
    },
    {
     "data": {
      "image/png": "[encoded data removed]",
      "text/plain": [
       "<Figure size 432x288 with 1 Axes>"
      ]
     },
     "metadata": {
      "needs_background": "light"
     },
     "output_type": "display_data"
    }
   ],
   "source": [
    "# get the memeberships of the minimum distance\n",
    "indexMembership =memberships[ distances.index(min(distances))]\n",
    "finalClusters = np.zeros((10))\n",
    "for value in range(0,10):\n",
    "    classifiedPoints=0\n",
    "    currentSummation= 0\n",
    "    startIndex= 240 * (value)\n",
    "    endIndex= 240 * (value+1)\n",
    "    counts = np.bincount(indexMembership[ range(startIndex,endIndex)])\n",
    "    # gets the most frequent count images of the current cluster\n",
    "    mostFrequentValue = np.argmax(counts)\n",
    "    classifiedPoints+=counts[mostFrequentValue]\n",
    "    finalClusters[value] =counts[mostFrequentValue]\n",
    "    accuracy = (classifiedPoints/240) *100\n",
    "    print(\"The accuracy for point\", value , \"is\", accuracy , \"%\")\n",
    "\n",
    "bars = ('0','1', '2', '3', '4', '5','6','7','8','9')\n",
    "y_pos = np.arange(len(bars))\n",
    "plt.bar(y_pos, finalClusters) \n",
    "plt.xticks(y_pos, bars)\n",
    "plt.savefig(\"Counts.jpg\")\n",
    "plt.show()\n",
    "\n"
   ]
  },
  {
   "cell_type": "code",
   "execution_count": null,
   "metadata": {},
   "outputs": [],
   "source": []
  },
  {
   "cell_type": "code",
   "execution_count": null,
   "metadata": {},
   "outputs": [],
   "source": []
  }
 ],
 "metadata": {
  "kernelspec": {
   "display_name": "Python 3",
   "language": "python",
   "name": "python3"
  },
  "language_info": {
   "codemirror_mode": {
    "name": "ipython",
    "version": 3
   },
   "file_extension": ".py",
   "mimetype": "text/x-python",
   "name": "python",
   "nbconvert_exporter": "python",
   "pygments_lexer": "ipython3",
   "version": "3.6.4"
  }
 },
 "nbformat": 4,
 "nbformat_minor": 2
}
