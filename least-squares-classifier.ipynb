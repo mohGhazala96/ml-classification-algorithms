{
 "cells": [
  {
   "cell_type": "code",
   "execution_count": 1,
   "metadata": {},
   "outputs": [
    {
     "name": "stdout",
     "output_type": "stream",
     "text": [
      "10\n"
     ]
    }
   ],
   "source": [
    "for n in [10]:\n",
    "    print(n)"
   ]
  },
  {
   "cell_type": "code",
   "execution_count": null,
   "metadata": {},
   "outputs": [],
   "source": [
    " #test\n",
    "    tdata = np.zeros((200, 28*28))\n",
    "    for i in range(1, 201, 1):\n",
    "        im = Image.open(\"Test/%d.jpg\"%(i))\n",
    "        tdata[i-1] = np.array(im).reshape(1, -1)\n",
    "    tdata = np.concatenate((np.ones((tdata.shape[0],1)),tdata),axis=1)\n",
    "    tlabels = np.loadtxt(\"Test/Test Labels.txt\", dtype=int)\n",
    "    tlabels = np.eye(10, dtype=int)[tlabels]\n",
    "    tlabels = tlabels*2 -1\n",
    "\n",
    "    preds = tdata.dot(weights)\n",
    "    conf_mat = np.zeros((10, 10))\n",
    "    preds_num = preds.argmax(axis=1)\n",
    "    tlabels_num = tlabels.argmax(axis=1)\n",
    "    \n",
    "    # confusion matrix\n",
    "    for i in range(preds_num.shape[0]):\n",
    "        conf_mat[tlabels_num[i], preds_num[i]] += 1\n",
    "    plt.imshow(conf_mat)\n",
    "    plt.savefig(\"Confusion%d.jpg\"%(index))\n",
    "    index +=1 "
   ]
  },
  {
   "cell_type": "code",
   "execution_count": null,
   "metadata": {},
   "outputs": [],
   "source": [
    "\n"
   ]
  }
 ],
 "metadata": {
  "kernelspec": {
   "display_name": "Python 3",
   "language": "python",
   "name": "python3"
  },
  "language_info": {
   "codemirror_mode": {
    "name": "ipython",
    "version": 3
   },
   "file_extension": ".py",
   "mimetype": "text/x-python",
   "name": "python",
   "nbconvert_exporter": "python",
   "pygments_lexer": "ipython3",
   "version": "3.6.4"
  }
 },
 "nbformat": 4,
 "nbformat_minor": 2
}
