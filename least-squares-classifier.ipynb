{
 "cells": [
  {
   "cell_type": "code",
   "execution_count": 2,
   "metadata": {},
   "outputs": [],
   "source": [
    "import numpy as np\n",
    "from PIL import Image\n",
    "from matplotlib import pyplot as plt"
   ]
  },
  {
   "cell_type": "code",
   "execution_count": 3,
   "metadata": {},
   "outputs": [],
   "source": [
    "data = np.zeros((2400, 28*28))\n",
    "for i in range(1, 2401, 1):\n",
    "    im = Image.open(\"Train/%d.jpg\"%(i))\n",
    "    data[i-1, :] = np.array(im).reshape(-1)\n",
    "data = np.concatenate((np.ones((data.shape[0],1)),data),axis=1)\n",
    "labels = np.loadtxt(\"Train/Training Labels.txt\", dtype=int)\n",
    "labels = np.eye(10, dtype=int)[labels]\n",
    "labels = labels*2 -1"
   ]
  },
  {
   "cell_type": "code",
   "execution_count": null,
   "metadata": {},
   "outputs": [],
   "source": [
    "#test\n",
    "tdata = np.zeros((200, 28*28))\n",
    "for i in range(1, 201, 1):\n",
    "    im = Image.open(\"Test/%d.jpg\"%(i))\n",
    "    tdata[i-1] = np.array(im).reshape(1, -1)\n",
    "tdata = np.concatenate((np.ones((tdata.shape[0],1)),tdata),axis=1)\n",
    "tlabels = np.loadtxt(\"Test/Test Labels.txt\", dtype=int)\n",
    "tlabels = np.eye(10, dtype=int)[tlabels]\n",
    "tlabels = tlabels*2 -1"
   ]
  },
  {
   "cell_type": "code",
   "execution_count": null,
   "metadata": {},
   "outputs": [],
   "source": [
    "preds = tdata.dot(weights)\n"
   ]
  },
  {
   "cell_type": "code",
   "execution_count": null,
   "metadata": {},
   "outputs": [],
   "source": [
    "conf_mat = np.zeros((10, 10))\n",
    "preds_num = preds.argmax(axis=1)\n",
    "tlabels_num = tlabels.argmax(axis=1)\n",
    "\n",
    "for i in range(preds_num.shape[0]):\n",
    "    conf_mat[tlabels_num[i], preds_num[i]] += 1"
   ]
  },
  {
   "cell_type": "code",
   "execution_count": null,
   "metadata": {},
   "outputs": [],
   "source": [
    "plt.imshow(conf_mat)\n",
    "plt.savefig(\"Confusion.jpg\")"
   ]
  }
 ],
 "metadata": {
  "kernelspec": {
   "display_name": "Python 3",
   "language": "python",
   "name": "python3"
  },
  "language_info": {
   "codemirror_mode": {
    "name": "ipython",
    "version": 3
   },
   "file_extension": ".py",
   "mimetype": "text/x-python",
   "name": "python",
   "nbconvert_exporter": "python",
   "pygments_lexer": "ipython3",
   "version": "3.6.4"
  }
 },
 "nbformat": 4,
 "nbformat_minor": 2
}
